{
 "cells": [
  {
   "cell_type": "raw",
   "metadata": {},
   "source": [
    "User defined reduce function"
   ]
  },
  {
   "cell_type": "code",
   "execution_count": 74,
   "metadata": {},
   "outputs": [
    {
     "name": "stdout",
     "output_type": "stream",
     "text": [
      "120\n"
     ]
    }
   ],
   "source": [
    "#Task1 --> 1.1\n",
    "l=[1,2,3,4,5]\n",
    "\n",
    "def myreduce(func,seq):\n",
    "    result=seq[0]\n",
    "    for i in range(1,len(seq)):\n",
    "        result=func(result,l[i])\n",
    "    return result\n",
    "\n",
    "print(myreduce(lambda x,y:x*y,l))      "
   ]
  },
  {
   "cell_type": "code",
   "execution_count": 46,
   "metadata": {},
   "outputs": [
    {
     "name": "stdout",
     "output_type": "stream",
     "text": [
      "[2, 3, 1]\n"
     ]
    }
   ],
   "source": [
    "#Task1 --> 1.2\n",
    "def filter123(i):\n",
    "    l = [1,2,3]\n",
    "    if i in l:\n",
    "        return True\n",
    "    return False\n",
    "\n",
    "def myfilter(func,lst):\n",
    "    nlst=[]\n",
    "    for i in lst:\n",
    "        res = filter123(i)\n",
    "        if res == True:\n",
    "            nlst.append(i);\n",
    "    return nlst\n",
    "\n",
    "lst=[2,3,4,1]\n",
    "flst=myfilter(filter123,lst)\n",
    "print(flst)"
   ]
  },
  {
   "cell_type": "code",
   "execution_count": 2,
   "metadata": {},
   "outputs": [
    {
     "name": "stdout",
     "output_type": "stream",
     "text": [
      "['A', 'C', 'A', 'D', 'G', 'I', 'L', 'D']\n"
     ]
    }
   ],
   "source": [
    "#Task1 --> 2\n",
    "string='ACADGILD'\n",
    "l= [i for i in string]\n",
    "print(l)"
   ]
  },
  {
   "cell_type": "code",
   "execution_count": 11,
   "metadata": {},
   "outputs": [
    {
     "name": "stdout",
     "output_type": "stream",
     "text": [
      "['x', 'xx', 'xxx', 'xxxx', 'y', 'yy', 'yyy', 'yyyy', 'z', 'zz', 'zzz', 'zzzz']\n"
     ]
    }
   ],
   "source": [
    "#Task1 --> 2\n",
    "lst=['x','y','z']\n",
    "l=[i*j for i in lst for j in range(1,5)]\n",
    "print(l)"
   ]
  },
  {
   "cell_type": "code",
   "execution_count": 12,
   "metadata": {},
   "outputs": [
    {
     "name": "stdout",
     "output_type": "stream",
     "text": [
      "['x', 'y', 'z', 'xx', 'yy', 'zz', 'xxx', 'yyy', 'zzz', 'xxxx', 'yyyy', 'zzzz']\n"
     ]
    }
   ],
   "source": [
    "#Task1 --> 2\n",
    "lst=['x','y','z']\n",
    "l=[i*j for j in range(1,5) for i in lst]\n",
    "print(l)"
   ]
  },
  {
   "cell_type": "code",
   "execution_count": 18,
   "metadata": {},
   "outputs": [
    {
     "name": "stdout",
     "output_type": "stream",
     "text": [
      "[[2], [3], [4], [3], [4], [5], [4], [5], [6]]\n"
     ]
    }
   ],
   "source": [
    "#Task1 --> 2\n",
    "lst=[2,3,4]\n",
    "l=[[i+j] for i in range(0,3) for j in lst]\n",
    "print(l)"
   ]
  },
  {
   "cell_type": "code",
   "execution_count": 25,
   "metadata": {},
   "outputs": [
    {
     "name": "stdout",
     "output_type": "stream",
     "text": [
      "[[2, 3, 4, 5], [3, 4, 5, 6], [4, 5, 6, 7], [5, 6, 7, 8]]\n"
     ]
    }
   ],
   "source": [
    "#Task1 --> 2\n",
    "lst=[2,3,4,5]\n",
    "l=[[i+j for j in lst] for i in range(0,4)]\n",
    "print(l)"
   ]
  },
  {
   "cell_type": "code",
   "execution_count": 35,
   "metadata": {},
   "outputs": [
    {
     "name": "stdout",
     "output_type": "stream",
     "text": [
      "[(1, 1), (2, 1), (3, 1), (1, 2), (2, 2), (3, 2), (1, 3), (2, 3), (3, 3)]\n"
     ]
    }
   ],
   "source": [
    "#Task1 --> 2\n",
    "lst=[1,2,3]\n",
    "l=[(i,j) for j in lst for i in range(1,4)]\n",
    "print(l)"
   ]
  },
  {
   "cell_type": "code",
   "execution_count": 42,
   "metadata": {},
   "outputs": [
    {
     "name": "stdout",
     "output_type": "stream",
     "text": [
      "abcde\n"
     ]
    }
   ],
   "source": [
    "#Task1 --> 3\n",
    "def longestWord(lst):\n",
    "    j=0\n",
    "    lwi=0\n",
    "    for i in lst:\n",
    "        if len(i) > j:\n",
    "            j = len(i)\n",
    "            lwi=i\n",
    "    print(lwi)\n",
    "\n",
    "lst=['abc','abcde','abcd']\n",
    "longestWord(lst)"
   ]
  },
  {
   "cell_type": "code",
   "execution_count": 11,
   "metadata": {
    "scrolled": true
   },
   "outputs": [
    {
     "name": "stdout",
     "output_type": "stream",
     "text": [
      "Enter first Side Length: 2\n",
      "Enter first Side Length: 3\n",
      "Enter first Side Length: 4\n",
      "Area of a Triangle with sides (2.0, 3.0, 4.0) =  2.9047375096555625\n"
     ]
    }
   ],
   "source": [
    "#Task2 --> 1.1\n",
    "class sidelengths():\n",
    "    def __init__(self):\n",
    "        pass\n",
    "\n",
    "    def get_side_lengths(self):\n",
    "        self.a, self.b, self.c = float(input(\"Enter first Side Length: \")), \\\n",
    "        float(input(\"Enter first Side Length: \")), float(input(\"Enter first Side Length: \"))\n",
    "    \n",
    "class triangle(sidelengths):\n",
    "    def __init__(self):\n",
    "        pass\n",
    "\n",
    "    def get_area(self):\n",
    "        super().get_side_lengths()\n",
    "        t_perimeter=(self.a+self.b+self.c)/2\n",
    "        t_area = (t_perimeter*(t_perimeter-self.a)*(t_perimeter-self.b)*(t_perimeter-self.c))**0.5\n",
    "        print('Area of a Triangle with sides ({}, {}, {}) = '.format(self.a, self.b, self.c), t_area)\n",
    "\n",
    "area=triangle().get_area()        "
   ]
  },
  {
   "cell_type": "code",
   "execution_count": 12,
   "metadata": {},
   "outputs": [
    {
     "name": "stdout",
     "output_type": "stream",
     "text": [
      "['abcde', 'abcd']\n"
     ]
    }
   ],
   "source": [
    "#Task2 --> 1.2\n",
    "def filter_long_words(lst,n):\n",
    "    nlst=[]\n",
    "    for i in lst:\n",
    "        if len(i) > n:\n",
    "            nlst.append(i)\n",
    "    print(nlst)\n",
    "\n",
    "lst=['abc','abcde','abcd']\n",
    "filter_long_words(lst,3)"
   ]
  },
  {
   "cell_type": "code",
   "execution_count": 15,
   "metadata": {},
   "outputs": [
    {
     "name": "stdout",
     "output_type": "stream",
     "text": [
      "[3, 5, 4]\n"
     ]
    }
   ],
   "source": [
    "#Task2 --> 2.1\n",
    "lst=['abc','abcde','abcd']\n",
    "nlst=list(map(lambda i:len(i),lst))\n",
    "print(nlst)"
   ]
  },
  {
   "cell_type": "code",
   "execution_count": 21,
   "metadata": {},
   "outputs": [
    {
     "name": "stdout",
     "output_type": "stream",
     "text": [
      "Enter a char to check if its vowel: b\n"
     ]
    },
    {
     "data": {
      "text/plain": [
       "False"
      ]
     },
     "execution_count": 21,
     "metadata": {},
     "output_type": "execute_result"
    }
   ],
   "source": [
    "#Task2 --> 2.2\n",
    "def isVowel(chr):\n",
    "    vowel_chr=('a','e','i','o','u')\n",
    "    if inp_chr in vowel_chr:\n",
    "        return True\n",
    "    else: return False\n",
    "\n",
    "inp_chr=input(\"Enter a char to check if its vowel: \")\n",
    "isVowel(inp_chr)"
   ]
  }
 ],
 "metadata": {
  "kernelspec": {
   "display_name": "Python 3",
   "language": "python",
   "name": "python3"
  },
  "language_info": {
   "codemirror_mode": {
    "name": "ipython",
    "version": 3
   },
   "file_extension": ".py",
   "mimetype": "text/x-python",
   "name": "python",
   "nbconvert_exporter": "python",
   "pygments_lexer": "ipython3",
   "version": "3.8.2"
  }
 },
 "nbformat": 4,
 "nbformat_minor": 4
}
