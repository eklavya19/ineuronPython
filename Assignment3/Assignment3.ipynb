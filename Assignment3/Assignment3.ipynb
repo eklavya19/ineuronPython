{
 "cells": [
  {
   "cell_type": "code",
   "execution_count": 3,
   "metadata": {},
   "outputs": [
    {
     "name": "stdout",
     "output_type": "stream",
     "text": [
      "Error: ZeroDivisionError\n"
     ]
    }
   ],
   "source": [
    "def my_div(a,b):\n",
    "    try:\n",
    "        x = a/b\n",
    "    except ZeroDivisionError:\n",
    "        print('Error: ZeroDivisionError')\n",
    "    else:\n",
    "        print(x)\n",
    "    \n",
    "my_div(5,0)"
   ]
  },
  {
   "cell_type": "code",
   "execution_count": 8,
   "metadata": {},
   "outputs": [
    {
     "name": "stdout",
     "output_type": "stream",
     "text": [
      "Americans  play Baseball\n",
      "Americans  play Cricket\n",
      "Americans  watch Baseball\n",
      "Americans  watch Cricket\n",
      "Indians play Baseball\n",
      "Indians play Cricket\n",
      "Indians watch Baseball\n",
      "Indians watch Cricket\n"
     ]
    }
   ],
   "source": [
    "subjects=[\"Americans \",\"Indians\"]\n",
    "verbs=[\"play\",\"watch\"]\n",
    "objects=[\"Baseball\",\"Cricket\"]\n",
    "\n",
    "'''for s in subjects:\n",
    "    for v in verbs:\n",
    "        for o in objects:\n",
    "            print(s,v,o)'''\n",
    "            \n",
    "sen_list = [(s+' '+v+' '+o) for s in subjects for v in verbs for o in objects]\n",
    "for sen in sen_list:\n",
    "    print(sen)"
   ]
  },
  {
   "cell_type": "code",
   "execution_count": 64,
   "metadata": {},
   "outputs": [
    {
     "name": "stdout",
     "output_type": "stream",
     "text": [
      "Vandermonde Matrix in Increasing Order\n",
      "[[  1   1   1   1   1]\n",
      " [  1   2   4   8  16]\n",
      " [  1   3   9  27  81]\n",
      " [  1   4  16  64 256]\n",
      " [  1   5  25 125 625]]\n"
     ]
    }
   ],
   "source": [
    "import numpy as np\n",
    "lst=[1,2,3,4,5]\n",
    "\n",
    "def vandermonde(inp_lst,order):\n",
    "    nlst=[]\n",
    "    ln=len(inp_lst)\n",
    "    \n",
    "    if order == True:\n",
    "        print('Vandermonde Matrix in Increasing Order')\n",
    "        for i in inp_lst:\n",
    "            temp=[]\n",
    "            for j in range(ln):\n",
    "                temp.append(pow(i,j))\n",
    "            nlst.append(temp)\n",
    "        narr=np.array(nlst)\n",
    "        print(narr)\n",
    "    else:\n",
    "        print('Vandermonde Matrix in Decreasing Order')\n",
    "        for i in inp_lst:\n",
    "            temp=[]\n",
    "            for j in range(ln):\n",
    "                temp.append(pow(i,ln-j-1))\n",
    "            nlst.append(temp)\n",
    "        narr=np.array(nlst)\n",
    "        print(narr)\n",
    "        \n",
    "\n",
    "vandermonde(lst,True)"
   ]
  }
 ],
 "metadata": {
  "kernelspec": {
   "display_name": "Python 3",
   "language": "python",
   "name": "python3"
  },
  "language_info": {
   "codemirror_mode": {
    "name": "ipython",
    "version": 3
   },
   "file_extension": ".py",
   "mimetype": "text/x-python",
   "name": "python",
   "nbconvert_exporter": "python",
   "pygments_lexer": "ipython3",
   "version": "3.8.2"
  }
 },
 "nbformat": 4,
 "nbformat_minor": 4
}
